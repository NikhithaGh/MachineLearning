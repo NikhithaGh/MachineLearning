{
 "cells": [
  {
   "cell_type": "markdown",
   "metadata": {},
   "source": [
    "### Loading useful Modules"
   ]
  },
  {
   "cell_type": "code",
   "execution_count": 1,
   "metadata": {},
   "outputs": [],
   "source": [
    "import pandas as pd\n",
    "from scipy.io import arff\n",
    "import numpy as np\n",
    "import math\n",
    "import operator"
   ]
  },
  {
   "cell_type": "markdown",
   "metadata": {},
   "source": [
    "### Loading Train and Test Datasets"
   ]
  },
  {
   "cell_type": "code",
   "execution_count": 3,
   "metadata": {},
   "outputs": [],
   "source": [
    "train=arff.loadarff(\"./product-selection/trainProdSelection.arff\")\n",
    "trainDataSet = pd.DataFrame(train[0])\n",
    "test=arff.loadarff(\"./product-selection/testProdSelection.arff\")\n",
    "testDataSet = pd.DataFrame(test[0])"
   ]
  },
  {
   "cell_type": "code",
   "execution_count": 4,
   "metadata": {},
   "outputs": [
    {
     "data": {
      "text/plain": [
       "<matplotlib.axes._subplots.AxesSubplot at 0x118526a0>"
      ]
     },
     "execution_count": 4,
     "metadata": {},
     "output_type": "execute_result"
    }
   ],
   "source": [
    "import seaborn as sns\n",
    "sns.barplot(trainDataSet['label'].value_counts())"
   ]
  },
  {
   "cell_type": "code",
   "execution_count": 5,
   "metadata": {},
   "outputs": [
    {
     "data": {
      "text/plain": [
       "C4    47\n",
       "C3    41\n",
       "C5    36\n",
       "C1    36\n",
       "C2    26\n",
       "Name: label, dtype: int64"
      ]
     },
     "execution_count": 5,
     "metadata": {},
     "output_type": "execute_result"
    }
   ],
   "source": [
    "trainDataSet['label'].value_counts()"
   ]
  },
  {
   "cell_type": "code",
   "execution_count": null,
   "metadata": {},
   "outputs": [],
   "source": []
  },
  {
   "cell_type": "code",
   "execution_count": null,
   "metadata": {},
   "outputs": [],
   "source": []
  },
  {
   "cell_type": "code",
   "execution_count": null,
   "metadata": {},
   "outputs": [],
   "source": []
  },
  {
   "cell_type": "markdown",
   "metadata": {},
   "source": [
    "### Encoding string based series in Training Set to UTF-8\n"
   ]
  },
  {
   "cell_type": "code",
   "execution_count": 6,
   "metadata": {},
   "outputs": [],
   "source": [
    "trainDataSet.Type=trainDataSet.Type.str.decode(\"UTF-8\")"
   ]
  },
  {
   "cell_type": "code",
   "execution_count": 7,
   "metadata": {},
   "outputs": [],
   "source": [
    "trainDataSet.LifeStyle=trainDataSet.LifeStyle.str.decode(\"UTF-8\")"
   ]
  },
  {
   "cell_type": "code",
   "execution_count": 8,
   "metadata": {},
   "outputs": [],
   "source": [
    "trainDataSet.label=trainDataSet.label.str.decode(\"UTF-8\")"
   ]
  },
  {
   "cell_type": "markdown",
   "metadata": {},
   "source": [
    "### Normalization"
   ]
  },
  {
   "cell_type": "code",
   "execution_count": 9,
   "metadata": {},
   "outputs": [],
   "source": [
    "minValue=trainDataSet.Vacation.min()\n",
    "maxValue=trainDataSet.Vacation.max()\n",
    "trainDataSet.Vacation=trainDataSet.Vacation.apply(lambda x:(x-minValue)/(maxValue-minValue))\n"
   ]
  },
  {
   "cell_type": "code",
   "execution_count": 10,
   "metadata": {},
   "outputs": [],
   "source": [
    "minValue=trainDataSet.eCredit.min()\n",
    "maxValue=trainDataSet.eCredit.max()\n",
    "trainDataSet.eCredit=trainDataSet.eCredit.apply(lambda x:(x-minValue)/(maxValue-minValue))"
   ]
  },
  {
   "cell_type": "code",
   "execution_count": 11,
   "metadata": {},
   "outputs": [],
   "source": [
    "minValue=trainDataSet.salary.min()\n",
    "maxValue=trainDataSet.salary.max()\n",
    "trainDataSet.salary=trainDataSet.salary.apply(lambda x:(x-minValue)/(maxValue-minValue))"
   ]
  },
  {
   "cell_type": "code",
   "execution_count": 12,
   "metadata": {},
   "outputs": [],
   "source": [
    "minValue=trainDataSet.property.min()\n",
    "maxValue=trainDataSet.property.max()\n",
    "trainDataSet.property=trainDataSet.property.apply(lambda x:(x-minValue)/(maxValue-minValue))"
   ]
  },
  {
   "cell_type": "code",
   "execution_count": 13,
   "metadata": {},
   "outputs": [
    {
     "data": {
      "text/html": [
       "<div>\n",
       "<style scoped>\n",
       "    .dataframe tbody tr th:only-of-type {\n",
       "        vertical-align: middle;\n",
       "    }\n",
       "\n",
       "    .dataframe tbody tr th {\n",
       "        vertical-align: top;\n",
       "    }\n",
       "\n",
       "    .dataframe thead th {\n",
       "        text-align: right;\n",
       "    }\n",
       "</style>\n",
       "<table border=\"1\" class=\"dataframe\">\n",
       "  <thead>\n",
       "    <tr style=\"text-align: right;\">\n",
       "      <th></th>\n",
       "      <th>Type</th>\n",
       "      <th>LifeStyle</th>\n",
       "      <th>Vacation</th>\n",
       "      <th>eCredit</th>\n",
       "      <th>salary</th>\n",
       "      <th>property</th>\n",
       "      <th>label</th>\n",
       "    </tr>\n",
       "  </thead>\n",
       "  <tbody>\n",
       "    <tr>\n",
       "      <th>0</th>\n",
       "      <td>student</td>\n",
       "      <td>spend&gt;saving</td>\n",
       "      <td>0.079365</td>\n",
       "      <td>0.107558</td>\n",
       "      <td>0.219960</td>\n",
       "      <td>0.183167</td>\n",
       "      <td>C1</td>\n",
       "    </tr>\n",
       "    <tr>\n",
       "      <th>1</th>\n",
       "      <td>student</td>\n",
       "      <td>spend&gt;saving</td>\n",
       "      <td>0.158730</td>\n",
       "      <td>0.052326</td>\n",
       "      <td>0.293102</td>\n",
       "      <td>0.112797</td>\n",
       "      <td>C1</td>\n",
       "    </tr>\n",
       "    <tr>\n",
       "      <th>2</th>\n",
       "      <td>student</td>\n",
       "      <td>spend&gt;saving</td>\n",
       "      <td>0.095238</td>\n",
       "      <td>0.177326</td>\n",
       "      <td>0.346023</td>\n",
       "      <td>0.174200</td>\n",
       "      <td>C1</td>\n",
       "    </tr>\n",
       "    <tr>\n",
       "      <th>3</th>\n",
       "      <td>student</td>\n",
       "      <td>spend&gt;saving</td>\n",
       "      <td>0.031746</td>\n",
       "      <td>0.127907</td>\n",
       "      <td>0.309882</td>\n",
       "      <td>0.189984</td>\n",
       "      <td>C1</td>\n",
       "    </tr>\n",
       "    <tr>\n",
       "      <th>4</th>\n",
       "      <td>student</td>\n",
       "      <td>spend&gt;saving</td>\n",
       "      <td>0.222222</td>\n",
       "      <td>0.020349</td>\n",
       "      <td>0.363663</td>\n",
       "      <td>0.127311</td>\n",
       "      <td>C1</td>\n",
       "    </tr>\n",
       "  </tbody>\n",
       "</table>\n",
       "</div>"
      ],
      "text/plain": [
       "      Type     LifeStyle  Vacation   eCredit    salary  property label\n",
       "0  student  spend>saving  0.079365  0.107558  0.219960  0.183167    C1\n",
       "1  student  spend>saving  0.158730  0.052326  0.293102  0.112797    C1\n",
       "2  student  spend>saving  0.095238  0.177326  0.346023  0.174200    C1\n",
       "3  student  spend>saving  0.031746  0.127907  0.309882  0.189984    C1\n",
       "4  student  spend>saving  0.222222  0.020349  0.363663  0.127311    C1"
      ]
     },
     "execution_count": 13,
     "metadata": {},
     "output_type": "execute_result"
    }
   ],
   "source": [
    "trainDataSet.head()"
   ]
  },
  {
   "cell_type": "markdown",
   "metadata": {},
   "source": [
    "### Encoding string based series in Test Set to UTF-8\n"
   ]
  },
  {
   "cell_type": "code",
   "execution_count": 14,
   "metadata": {},
   "outputs": [],
   "source": [
    "testDataSet.Type=testDataSet.Type.str.decode(\"UTF-8\")"
   ]
  },
  {
   "cell_type": "code",
   "execution_count": 15,
   "metadata": {},
   "outputs": [],
   "source": [
    "testDataSet.LifeStyle=testDataSet.LifeStyle.str.decode(\"UTF-8\")"
   ]
  },
  {
   "cell_type": "code",
   "execution_count": 16,
   "metadata": {},
   "outputs": [],
   "source": [
    "testDataSet.label=testDataSet.label.str.decode(\"UTF-8\")"
   ]
  },
  {
   "cell_type": "markdown",
   "metadata": {},
   "source": [
    "### Normalization\n"
   ]
  },
  {
   "cell_type": "code",
   "execution_count": 17,
   "metadata": {},
   "outputs": [],
   "source": [
    "minValue=testDataSet.Vacation.min()\n",
    "maxValue=testDataSet.Vacation.max()\n",
    "testDataSet.Vacation=testDataSet.Vacation.apply(lambda x:(x-minValue)/(maxValue-minValue))"
   ]
  },
  {
   "cell_type": "code",
   "execution_count": 18,
   "metadata": {},
   "outputs": [],
   "source": [
    "minValue=testDataSet.eCredit.min()\n",
    "maxValue=testDataSet.eCredit.max()\n",
    "testDataSet.eCredit=testDataSet.eCredit.apply(lambda x:(x-minValue)/(maxValue-minValue))"
   ]
  },
  {
   "cell_type": "code",
   "execution_count": 19,
   "metadata": {},
   "outputs": [],
   "source": [
    "minValue=testDataSet.salary.min()\n",
    "maxValue=testDataSet.salary.max()\n",
    "testDataSet.salary=testDataSet.salary.apply(lambda x:(x-minValue)/(maxValue-minValue))"
   ]
  },
  {
   "cell_type": "code",
   "execution_count": 20,
   "metadata": {},
   "outputs": [],
   "source": [
    "minValue=testDataSet.property.min()\n",
    "maxValue=testDataSet.property.max()\n",
    "testDataSet.property=testDataSet.property.apply(lambda x:(x-minValue)/(maxValue-minValue))"
   ]
  },
  {
   "cell_type": "code",
   "execution_count": 21,
   "metadata": {},
   "outputs": [
    {
     "data": {
      "text/html": [
       "<div>\n",
       "<style scoped>\n",
       "    .dataframe tbody tr th:only-of-type {\n",
       "        vertical-align: middle;\n",
       "    }\n",
       "\n",
       "    .dataframe tbody tr th {\n",
       "        vertical-align: top;\n",
       "    }\n",
       "\n",
       "    .dataframe thead th {\n",
       "        text-align: right;\n",
       "    }\n",
       "</style>\n",
       "<table border=\"1\" class=\"dataframe\">\n",
       "  <thead>\n",
       "    <tr style=\"text-align: right;\">\n",
       "      <th></th>\n",
       "      <th>Type</th>\n",
       "      <th>LifeStyle</th>\n",
       "      <th>Vacation</th>\n",
       "      <th>eCredit</th>\n",
       "      <th>salary</th>\n",
       "      <th>property</th>\n",
       "      <th>label</th>\n",
       "    </tr>\n",
       "  </thead>\n",
       "  <tbody>\n",
       "    <tr>\n",
       "      <th>0</th>\n",
       "      <td>student</td>\n",
       "      <td>spend&lt;saving</td>\n",
       "      <td>0.20</td>\n",
       "      <td>0.058824</td>\n",
       "      <td>0.104637</td>\n",
       "      <td>0.398926</td>\n",
       "      <td>C1</td>\n",
       "    </tr>\n",
       "    <tr>\n",
       "      <th>1</th>\n",
       "      <td>student</td>\n",
       "      <td>spend&gt;&gt;saving</td>\n",
       "      <td>0.54</td>\n",
       "      <td>0.021008</td>\n",
       "      <td>0.175059</td>\n",
       "      <td>0.243041</td>\n",
       "      <td>C1</td>\n",
       "    </tr>\n",
       "    <tr>\n",
       "      <th>2</th>\n",
       "      <td>student</td>\n",
       "      <td>spend&lt;&lt;saving</td>\n",
       "      <td>0.52</td>\n",
       "      <td>0.231092</td>\n",
       "      <td>0.138339</td>\n",
       "      <td>0.085992</td>\n",
       "      <td>C1</td>\n",
       "    </tr>\n",
       "    <tr>\n",
       "      <th>3</th>\n",
       "      <td>engineer</td>\n",
       "      <td>spend&gt;saving</td>\n",
       "      <td>0.26</td>\n",
       "      <td>0.151261</td>\n",
       "      <td>0.430086</td>\n",
       "      <td>0.116229</td>\n",
       "      <td>C1</td>\n",
       "    </tr>\n",
       "    <tr>\n",
       "      <th>4</th>\n",
       "      <td>librarian</td>\n",
       "      <td>spend&lt;saving</td>\n",
       "      <td>0.00</td>\n",
       "      <td>0.016807</td>\n",
       "      <td>0.352657</td>\n",
       "      <td>0.025714</td>\n",
       "      <td>C1</td>\n",
       "    </tr>\n",
       "  </tbody>\n",
       "</table>\n",
       "</div>"
      ],
      "text/plain": [
       "        Type      LifeStyle  Vacation   eCredit    salary  property label\n",
       "0    student   spend<saving      0.20  0.058824  0.104637  0.398926    C1\n",
       "1    student  spend>>saving      0.54  0.021008  0.175059  0.243041    C1\n",
       "2    student  spend<<saving      0.52  0.231092  0.138339  0.085992    C1\n",
       "3   engineer   spend>saving      0.26  0.151261  0.430086  0.116229    C1\n",
       "4  librarian   spend<saving      0.00  0.016807  0.352657  0.025714    C1"
      ]
     },
     "execution_count": 21,
     "metadata": {},
     "output_type": "execute_result"
    }
   ],
   "source": [
    "testDataSet.head()"
   ]
  },
  {
   "cell_type": "markdown",
   "metadata": {},
   "source": [
    "### Calculating Distance between two datapoints "
   ]
  },
  {
   "cell_type": "code",
   "execution_count": 22,
   "metadata": {},
   "outputs": [],
   "source": [
    "def eDistance(row1, row2, length):\n",
    "    distance = 0\n",
    "    for i in range(2):\n",
    "        if (row1[i]==row2[i]):\n",
    "            distance += pow((1), 2)\n",
    "    for x in range(2,length):\n",
    "        distance += pow((row1[x] - row2[x]), 2)\n",
    "    return math.sqrt(distance)"
   ]
  },
  {
   "cell_type": "markdown",
   "metadata": {},
   "source": [
    "### Calculating the K nearest Neighbours for  a test data point using all train data points"
   ]
  },
  {
   "cell_type": "code",
   "execution_count": 23,
   "metadata": {},
   "outputs": [],
   "source": [
    "def getNeighbors(trainSet, testInstance, k):\n",
    "    distances = []\n",
    "    length = len(testInstance)-1\n",
    "    for x in range(len(trainSet)):\n",
    "        dist = eDistance(testInstance, trainSet[x], length)\n",
    "        distances.append((trainSet[x], dist))\n",
    "    distances.sort(key=operator.itemgetter(1))\n",
    "    neighbors = []\n",
    "    for x in range(k):\n",
    "        neighbors.append(distances[x][0])\n",
    "    return neighbors"
   ]
  },
  {
   "cell_type": "markdown",
   "metadata": {},
   "source": [
    "### Predicting Label from a set of nearest neighbours using Majority Voting\n"
   ]
  },
  {
   "cell_type": "code",
   "execution_count": 24,
   "metadata": {},
   "outputs": [],
   "source": [
    "def predictLabelFrom(neighbors):\n",
    "    votes = {}\n",
    "    for x in range(len(neighbors)):\n",
    "        response = neighbors[x][-1]\n",
    "        if response in votes:\n",
    "            votes[response] += 1\n",
    "        else:\n",
    "            votes[response] = 1\n",
    "    #sortedVotes = sorted(votes.items(), key=operator.itemgetter(0,1),reverse=True)\n",
    "    e=sorted(votes.items(), key=lambda x: (x[1],x[0]), reverse=True)\n",
    "    d=pd.DataFrame(e)\n",
    "#     display(d)\n",
    "    dFilter=d[d[1]==d[1].max()]\n",
    "    fg = dFilter.sort_values(by = 0,ascending=True).head(1)\n",
    "    #print(e,fg[0].values[0])\n",
    "    return fg[0].values[0]\n",
    "    #return sortedVotes[0][0]"
   ]
  },
  {
   "cell_type": "markdown",
   "metadata": {},
   "source": [
    "### Calculating Accuracy, given predicted values and actual values"
   ]
  },
  {
   "cell_type": "code",
   "execution_count": 25,
   "metadata": {},
   "outputs": [],
   "source": [
    "def Accuracy(testSet, predictedLabels):\n",
    "    correct = 0\n",
    "    for x in range(len(testSet)):\n",
    "        if testSet[x][-1] == predictedLabels[x]:\n",
    "            correct += 1\n",
    "    return (correct/float(len(testSet))) * 100.0\n",
    "\n"
   ]
  },
  {
   "cell_type": "markdown",
   "metadata": {},
   "source": [
    "### KNN Algorithm Driver Function"
   ]
  },
  {
   "cell_type": "code",
   "execution_count": 26,
   "metadata": {},
   "outputs": [],
   "source": [
    "def knn(k):\n",
    "    predictedLabels=[]\n",
    "    for x in range(len(testDataSet)):\n",
    "        neighbors = getNeighbors(trainDataSet.values, testDataSet.values[x], k)\n",
    "        result = predictLabelFrom(neighbors)\n",
    "        predictedLabels.append(result)\n",
    "        print('> predicted=' + repr(result) + ', actual=' + repr(testDataSet.values[x][-1]))\n",
    "    accuracy = Accuracy(testDataSet.values, predictedLabels)\n",
    "#     print('Accuracy: ' + repr(accuracy) + '%' + 'for k: ' +repr(k))"
   ]
  },
  {
   "cell_type": "code",
   "execution_count": 27,
   "metadata": {},
   "outputs": [],
   "source": [
    "from sklearn.model_selection import train_test_split"
   ]
  },
  {
   "cell_type": "code",
   "execution_count": 28,
   "metadata": {},
   "outputs": [],
   "source": [
    "\n",
    "def knn2(k):\n",
    "    train=testDataSet.reindex(np.random.permutation(trainDataSet.index))\n",
    "    trainDF1=train[:150]\n",
    "    testDF1=train[150:]\n",
    "    predictedLabels=[]\n",
    "    for x in range(len(testDataSet)):\n",
    "        neighbors = getNeighbors(trainDataSet.values, testDataSet.values[x], k)\n",
    "        result = predictLabelFrom(neighbors)\n",
    "        predictedLabels.append(result)\n",
    "        print('> predicted=' + repr(result) + ', actual=' + repr(testDataSet.values[x][-1]))\n",
    "    accuracy = Accuracy(testDataSet.values, predictedLabels)\n",
    "    print('Accuracy: ' + repr(accuracy) + '%' + 'for k: ' +repr(k))"
   ]
  },
  {
   "cell_type": "code",
   "execution_count": null,
   "metadata": {},
   "outputs": [],
   "source": []
  },
  {
   "cell_type": "code",
   "execution_count": null,
   "metadata": {},
   "outputs": [],
   "source": []
  },
  {
   "cell_type": "code",
   "execution_count": 29,
   "metadata": {},
   "outputs": [
    {
     "name": "stdout",
     "output_type": "stream",
     "text": [
      "> predicted=u'C2', actual=u'C1'\n",
      "> predicted=u'C4', actual=u'C1'\n",
      "> predicted=u'C4', actual=u'C1'\n",
      "> predicted=u'C4', actual=u'C1'\n",
      "> predicted=u'C2', actual=u'C1'\n",
      "> predicted=u'C1', actual=u'C1'\n",
      "> predicted=u'C2', actual=u'C1'\n",
      "> predicted=u'C2', actual=u'C1'\n",
      "> predicted=u'C1', actual=u'C1'\n",
      "> predicted=u'C3', actual=u'C1'\n",
      "> predicted=u'C3', actual=u'C1'\n",
      "> predicted=u'C3', actual=u'C1'\n",
      "> predicted=u'C4', actual=u'C1'\n",
      "> predicted=u'C1', actual=u'C1'\n",
      "> predicted=u'C1', actual=u'C1'\n",
      "> predicted=u'C4', actual=u'C1'\n",
      "> predicted=u'C4', actual=u'C1'\n",
      "> predicted=u'C4', actual=u'C1'\n",
      "> predicted=u'C4', actual=u'C1'\n",
      "> predicted=u'C5', actual=u'C1'\n",
      "> predicted=u'C4', actual=u'C1'\n",
      "Accuracy: 19.047619047619047%for k: 5\n"
     ]
    }
   ],
   "source": [
    "knn2(5)\n",
    "# for i in range(3,50,2):\n",
    "#     knn(i)"
   ]
  },
  {
   "cell_type": "code",
   "execution_count": null,
   "metadata": {},
   "outputs": [],
   "source": []
  },
  {
   "cell_type": "code",
   "execution_count": null,
   "metadata": {},
   "outputs": [],
   "source": []
  }
 ],
 "metadata": {
  "kernelspec": {
   "display_name": "Python 2",
   "language": "python",
   "name": "python2"
  },
  "language_info": {
   "codemirror_mode": {
    "name": "ipython",
    "version": 2
   },
   "file_extension": ".py",
   "mimetype": "text/x-python",
   "name": "python",
   "nbconvert_exporter": "python",
   "pygments_lexer": "ipython2",
   "version": "2.7.13"
  }
 },
 "nbformat": 4,
 "nbformat_minor": 2
}
