{
 "cells": [
  {
   "cell_type": "code",
   "execution_count": 1,
   "metadata": {},
   "outputs": [],
   "source": [
    "from scipy.io import arff\n",
    "import pandas as pd"
   ]
  },
  {
   "cell_type": "code",
   "execution_count": 3,
   "metadata": {},
   "outputs": [
    {
     "name": "stdout",
     "output_type": "stream",
     "text": [
      "            Type         LifeStyle  Vacation  eCredit   salary  property  \\\n",
      "0     b'student'   b'spend<saving'      12.0     19.0  14.7900    3.7697   \n",
      "1     b'student'  b'spend>>saving'      29.0     10.0  16.1900    2.4839   \n",
      "2     b'student'  b'spend<<saving'      28.0     60.0  15.4600    1.1885   \n",
      "3    b'engineer'   b'spend>saving'      15.0     41.0  21.2600    1.4379   \n",
      "4   b'librarian'   b'spend<saving'       2.0      9.0  19.7207    0.6913   \n",
      "5   b'librarian'   b'spend>saving'       7.0      9.0  12.7098    1.4728   \n",
      "6   b'professor'   b'spend>saving'       5.0     10.0  20.8830    1.3131   \n",
      "7   b'professor'   b'spend<saving'       3.0     15.0  16.5711    0.4792   \n",
      "8     b'student'   b'spend<saving'       9.0     71.0  25.7000    2.0947   \n",
      "9     b'student'   b'spend>saving'      10.0     67.0  27.1100    3.8391   \n",
      "10     b'doctor'   b'spend>saving'       7.0    229.0  30.6100    7.0074   \n",
      "11     b'doctor'   b'spend<saving'       8.0    243.0  25.3300    8.7276   \n",
      "12  b'professor'   b'spend>saving'      51.0      5.0  18.9800    2.8944   \n",
      "13     b'doctor'   b'spend>saving'      34.0     51.0  19.9000    3.9544   \n",
      "14    b'student'  b'spend>>saving'      39.0     40.0  19.3000    3.8317   \n",
      "15    b'student'  b'spend>>saving'      36.0     57.0  19.6100    4.8880   \n",
      "16  b'professor'  b'spend>>saving'      34.0     30.0  20.9100    2.4095   \n",
      "17  b'librarian'  b'spend>>saving'      48.0     35.0  20.1500    2.4436   \n",
      "18  b'professor'  b'spend>>saving'      52.0      5.0  22.6300    2.2115   \n",
      "19   b'engineer'   b'spend>saving'      50.0     17.0  32.5900    1.2229   \n",
      "20   b'engineer'  b'spend>>saving'      50.0     15.0  21.7800    2.0700   \n",
      "\n",
      "    label  \n",
      "0   b'C1'  \n",
      "1   b'C1'  \n",
      "2   b'C1'  \n",
      "3   b'C1'  \n",
      "4   b'C1'  \n",
      "5   b'C1'  \n",
      "6   b'C1'  \n",
      "7   b'C1'  \n",
      "8   b'C1'  \n",
      "9   b'C1'  \n",
      "10  b'C1'  \n",
      "11  b'C1'  \n",
      "12  b'C1'  \n",
      "13  b'C1'  \n",
      "14  b'C1'  \n",
      "15  b'C1'  \n",
      "16  b'C1'  \n",
      "17  b'C1'  \n",
      "18  b'C1'  \n",
      "19  b'C1'  \n",
      "20  b'C1'  \n"
     ]
    }
   ],
   "source": [
    "data = arff.loadarff('testProdSelection.arff')\n",
    "DataTest = pd.DataFrame(data[0])\n",
    "\n",
    "data = arff.loadarff('trainProdSelection.arff')\n",
    "Datatrain = pd.DataFrame(data[0])\n",
    "\n",
    "print(DataTest)"
   ]
  },
  {
   "cell_type": "code",
   "execution_count": 6,
   "metadata": {},
   "outputs": [],
   "source": [
    "Datatrain.Type = Datatrain.Type.str.encode(\"UTF-8\")\n",
    "Datatrain.LifeStyle = Datatrain.LifeStyle.str.encode(\"UTF-8\")\n",
    "Datatrain.label = Datatrain.label.str.encode(\"UTF-8\")\n",
    "\n",
    "DataTest.Type = DataTest.Type.str.encode(\"UTF-8\")\n",
    "DataTest.LifeStyle = DataTest.LifeStyle.str.encode(\"UTF-8\")\n",
    "DataTest.label = DataTest.label.str.encode(\"UTF-8\")"
   ]
  },
  {
   "cell_type": "code",
   "execution_count": 7,
   "metadata": {},
   "outputs": [
    {
     "name": "stdout",
     "output_type": "stream",
     "text": [
      "    Type  LifeStyle  Vacation  eCredit   salary  property  label\n",
      "0    NaN        NaN      12.0     19.0  14.7900    3.7697    NaN\n",
      "1    NaN        NaN      29.0     10.0  16.1900    2.4839    NaN\n",
      "2    NaN        NaN      28.0     60.0  15.4600    1.1885    NaN\n",
      "3    NaN        NaN      15.0     41.0  21.2600    1.4379    NaN\n",
      "4    NaN        NaN       2.0      9.0  19.7207    0.6913    NaN\n",
      "5    NaN        NaN       7.0      9.0  12.7098    1.4728    NaN\n",
      "6    NaN        NaN       5.0     10.0  20.8830    1.3131    NaN\n",
      "7    NaN        NaN       3.0     15.0  16.5711    0.4792    NaN\n",
      "8    NaN        NaN       9.0     71.0  25.7000    2.0947    NaN\n",
      "9    NaN        NaN      10.0     67.0  27.1100    3.8391    NaN\n",
      "10   NaN        NaN       7.0    229.0  30.6100    7.0074    NaN\n",
      "11   NaN        NaN       8.0    243.0  25.3300    8.7276    NaN\n",
      "12   NaN        NaN      51.0      5.0  18.9800    2.8944    NaN\n",
      "13   NaN        NaN      34.0     51.0  19.9000    3.9544    NaN\n",
      "14   NaN        NaN      39.0     40.0  19.3000    3.8317    NaN\n",
      "15   NaN        NaN      36.0     57.0  19.6100    4.8880    NaN\n",
      "16   NaN        NaN      34.0     30.0  20.9100    2.4095    NaN\n",
      "17   NaN        NaN      48.0     35.0  20.1500    2.4436    NaN\n",
      "18   NaN        NaN      52.0      5.0  22.6300    2.2115    NaN\n",
      "19   NaN        NaN      50.0     17.0  32.5900    1.2229    NaN\n",
      "20   NaN        NaN      50.0     15.0  21.7800    2.0700    NaN\n"
     ]
    }
   ],
   "source": [
    "print(DataTest)"
   ]
  },
  {
   "cell_type": "code",
   "execution_count": null,
   "metadata": {},
   "outputs": [],
   "source": []
  }
 ],
 "metadata": {
  "kernelspec": {
   "display_name": "Python 3",
   "language": "python",
   "name": "python3"
  },
  "language_info": {
   "codemirror_mode": {
    "name": "ipython",
    "version": 3
   },
   "file_extension": ".py",
   "mimetype": "text/x-python",
   "name": "python",
   "nbconvert_exporter": "python",
   "pygments_lexer": "ipython3",
   "version": "3.7.2"
  }
 },
 "nbformat": 4,
 "nbformat_minor": 2
}
